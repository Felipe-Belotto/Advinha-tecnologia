{
  "nbformat": 4,
  "nbformat_minor": 0,
  "metadata": {
    "colab": {
      "provenance": [],
      "authorship_tag": "ABX9TyOsbobp191tOrz+2YqK/5Xk",
      "include_colab_link": true
    },
    "kernelspec": {
      "name": "python3",
      "display_name": "Python 3"
    },
    "language_info": {
      "name": "python"
    }
  },
  "cells": [
    {
      "cell_type": "markdown",
      "metadata": {
        "id": "view-in-github",
        "colab_type": "text"
      },
      "source": [
        "<a href=\"https://colab.research.google.com/github/Felipe-Belotto/Advinha-tecnologia/blob/main/AdvinhaTecnologia.ipynb\" target=\"_parent\"><img src=\"https://colab.research.google.com/assets/colab-badge.svg\" alt=\"Open In Colab\"/></a>"
      ]
    },
    {
      "cell_type": "code",
      "execution_count": null,
      "metadata": {
        "colab": {
          "base_uri": "https://localhost:8080/"
        },
        "id": "Us_DxUH70egB",
        "outputId": "a4cb35ed-4f61-4ab7-8ce3-f4c4d27d8285"
      },
      "outputs": [
        {
          "output_type": "stream",
          "name": "stdout",
          "text": [
            "A palavra tem 3 letras e sua definição é desenvolver software de sistema, jogos e aplicações de alto desempenho., qual técnologia estamos mencionando ? c++\n",
            "Resposta correta\n"
          ]
        }
      ],
      "source": [
        "import requests\n",
        "import random\n",
        "\n",
        "url = \"https://raw.githubusercontent.com/guilhermeonrails/api-imersao-ia/main/words.json\"\n",
        "\n",
        "resposta = requests.get(url)\n",
        "\n",
        "data = resposta.json()\n",
        "\n",
        "valor_secreto = random.choice(data)\n",
        "palavra_secreta = valor_secreto[\"palavra\"]\n",
        "dica = valor_secreto['dica']\n",
        "## f antes da string é utilizado para concatenação com váriaveis e etc\n",
        "\n",
        "chute = input(f\"A palavra tem {len(palavra_secreta)} letras e sua definição é {dica}, qual técnologia estamos mencionando ? \")\n",
        "\n",
        "if chute == palavra_secreta:\n",
        "  print(\"Resposta correta\")\n",
        "else:\n",
        "   print(f\"Resposta incorreta, a resposta correta é {palavra_secreta}\")\n"
      ]
    }
  ]
}